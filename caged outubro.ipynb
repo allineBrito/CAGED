{
  "nbformat": 4,
  "nbformat_minor": 0,
  "metadata": {
    "colab": {
      "provenance": [],
      "mount_file_id": "1qQaj64rczqfQa76TnevoAMHgVvij9UJ5",
      "authorship_tag": "ABX9TyNKlzX5OftNvYI+6TaSrTYL",
      "include_colab_link": true
    },
    "kernelspec": {
      "name": "python3",
      "display_name": "Python 3"
    },
    "language_info": {
      "name": "python"
    }
  },
  "cells": [
    {
      "cell_type": "markdown",
      "metadata": {
        "id": "view-in-github",
        "colab_type": "text"
      },
      "source": [
        "<a href=\"https://colab.research.google.com/github/allineBrito/CAGED/blob/main/caged%20outubro.ipynb\" target=\"_parent\"><img src=\"https://colab.research.google.com/assets/colab-badge.svg\" alt=\"Open In Colab\"/></a>"
      ]
    },
    {
      "cell_type": "markdown",
      "source": [
        "**Dados CAGED OUTUBRO/2022**\n",
        "\n",
        "---\n",
        "\n",
        "\n",
        "\n"
      ],
      "metadata": {
        "id": "VcUz7kpd6w7T"
      }
    },
    {
      "cell_type": "code",
      "source": [
        "import statistics as stats\n",
        "from itertools import chain\n",
        "import string\n",
        "import numpy as np\n",
        "import pandas as pd\n",
        "import matplotlib.pyplot as plt \n",
        "import seaborn as sns\n",
        "from pylab import rcParams\n",
        "%matplotlib inline"
      ],
      "metadata": {
        "id": "IM8I1F_Y5m8o"
      },
      "execution_count": 1,
      "outputs": []
    },
    {
      "cell_type": "markdown",
      "source": [
        "#Link dos Microdados do Caged: http://pdet.mte.gov.br/\n",
        "##A base de dados fornece dados atualizados de forma mensal, para análise foi ultilizada apenas a base de outubro de 2022"
      ],
      "metadata": {
        "id": "oI67T2_iml_e"
      }
    },
    {
      "cell_type": "markdown",
      "source": [
        "# ***Oraganização e limpeza da base***"
      ],
      "metadata": {
        "id": "4ZGhI3ad6lKL"
      }
    },
    {
      "cell_type": "code",
      "source": [
        "cols =[\n",
        "    'município', \n",
        "    'seção',\n",
        "    'categoria',\n",
        "    'graudeinstrução',\n",
        "    'sexo',\n",
        "    'tipomovimentação',\n",
        "    'raçacor',\n",
        "    'idade',\n",
        "    'tipodedeficiência',\n",
        "    'salário'\n",
        "]\n",
        "newcols=[\n",
        "    'municipio',\n",
        "    'secao',\n",
        "    'categoria',\n",
        "    'instrucao',\n",
        "    'genero',\n",
        "    'tipo',\n",
        "    'tipomovimentação',\n",
        "    'raca',\n",
        "    'idade',\n",
        "    'tipodedeficiência',\n",
        "    'salario'\n",
        "]\n",
        "a = list(string.ascii_uppercase)\n",
        "del(a[21:25] )\n",
        "genero = ['M','F','N/I']\n",
        "secao = [\n",
        "    'Agricultura/Pecuária',\n",
        "    'Ind. Extrativas',\n",
        "    'Ind. Transformação',\n",
        "    'Eletricidade/Gás',\n",
        "    'Água/Esgoto',\n",
        "    'Construção',\n",
        "    'Comércio',\n",
        "    'Transporte',\n",
        "    'Alimentação',\n",
        "    'Informação',\n",
        "    'Financeiros',\n",
        "    'Imobiliárias',\n",
        "    'Profissionais',\n",
        "    'Administrativas',\n",
        "    'Adm Pública',\n",
        "    'Educação',\n",
        "    'Saúde',\n",
        "    'Artes/Cultura',\n",
        "    'Outros Serviços',\n",
        "    'Domésticos',\n",
        "    'Org. Internacionais',\n",
        "    'Não Identificados',\n",
        "]"
      ],
      "metadata": {
        "id": "57VT5w1d5gLB"
      },
      "execution_count": 2,
      "outputs": []
    },
    {
      "cell_type": "code",
      "source": [
        "##df_ss.columns = (df_ss.iloc[1] + '_' + df_ss.iloc[0]) Criando o cabeçalho a partir da agregação entre primeira e segunda linha"
      ],
      "metadata": {
        "id": "9otD_vyo-GmG"
      },
      "execution_count": 3,
      "outputs": []
    },
    {
      "cell_type": "code",
      "source": [
        "df = pd.read_csv('/content/drive/MyDrive/fies/CAGEDEXC202210.txt',sep=';', usecols=cols)"
      ],
      "metadata": {
        "id": "ilFyEDRb2X1B"
      },
      "execution_count": 4,
      "outputs": []
    },
    {
      "cell_type": "code",
      "source": [
        "data = pd.read_csv('/content/drive/MyDrive/fies/CAGEDEXC202210.txt', sep=';', low_memory=False, decimal=\",\")"
      ],
      "metadata": {
        "id": "PwyOdoR977MJ"
      },
      "execution_count": 5,
      "outputs": []
    },
    {
      "cell_type": "code",
      "source": [
        "df.info()"
      ],
      "metadata": {
        "colab": {
          "base_uri": "https://localhost:8080/"
        },
        "id": "bszclLE0TJh8",
        "outputId": "4b7ff9e3-23d8-4aea-afcd-de11f49be70d"
      },
      "execution_count": 6,
      "outputs": [
        {
          "output_type": "stream",
          "name": "stdout",
          "text": [
            "<class 'pandas.core.frame.DataFrame'>\n",
            "RangeIndex: 6236 entries, 0 to 6235\n",
            "Data columns (total 10 columns):\n",
            " #   Column             Non-Null Count  Dtype  \n",
            "---  ------             --------------  -----  \n",
            " 0   município          6236 non-null   int64  \n",
            " 1   seção              6236 non-null   object \n",
            " 2   categoria          6236 non-null   int64  \n",
            " 3   graudeinstrução    6236 non-null   int64  \n",
            " 4   idade              6207 non-null   float64\n",
            " 5   raçacor            6236 non-null   int64  \n",
            " 6   sexo               6236 non-null   int64  \n",
            " 7   tipomovimentação   6236 non-null   int64  \n",
            " 8   tipodedeficiência  6236 non-null   int64  \n",
            " 9   salário            5615 non-null   object \n",
            "dtypes: float64(1), int64(7), object(2)\n",
            "memory usage: 487.3+ KB\n"
          ]
        }
      ]
    },
    {
      "cell_type": "code",
      "source": [
        "#transformar em valor financeiro\n",
        "df['salário']=df['salário'].apply(lambda x :  str(x).replace(',','.'))\n",
        "df['salário']=df['salário'].apply(lambda x :  str(x).replace('nan','0'))\n",
        "df['salário']=pd.to_numeric(df['salário'], downcast=\"float\")\n",
        "df['salário']=df['salário'].apply(lambda x: round(x,2))"
      ],
      "metadata": {
        "id": "Ax0Xxu0t9FW4"
      },
      "execution_count": 7,
      "outputs": []
    },
    {
      "cell_type": "code",
      "source": [
        "conditions = [\n",
        "    (df['tipomovimentação'].isin([10,20,25,35,70])),\n",
        "    (df['tipomovimentação'].isin([31,32,33,40,43,45,50,60,80,90,98])),\n",
        "    (df['tipomovimentação'].isin([99]))\n",
        "    ]\n",
        "values = ['Admitido', 'Desligado', 'Não identificado']\n",
        "\n",
        "df['tipomovimentação'] = np.select(conditions, values)"
      ],
      "metadata": {
        "id": "455nAIPVqtOt"
      },
      "execution_count": 8,
      "outputs": []
    },
    {
      "cell_type": "code",
      "source": [
        "df['tipomovimentação'].unique()"
      ],
      "metadata": {
        "colab": {
          "base_uri": "https://localhost:8080/"
        },
        "id": "ahtUTOAw22-M",
        "outputId": "d745a7e0-267e-42a6-fb25-9a326f035d5a"
      },
      "execution_count": 9,
      "outputs": [
        {
          "output_type": "execute_result",
          "data": {
            "text/plain": [
              "array(['Admitido', 'Desligado', '0'], dtype=object)"
            ]
          },
          "metadata": {},
          "execution_count": 9
        }
      ]
    },
    {
      "cell_type": "code",
      "source": [
        "sexo = {1: 'Homem', 3: 'Mulher' , 9:'Não identificado'}\n",
        "raçacor = {1:'Branca', 2:'Preta', 3:'Parda', 4:'Amarela', 5:'Indígena', 6:'Não informada', 9: 'Não identificado'}\n",
        "graudeinstrução = {1:'Analfabeto', 2:'Até 5ª Incompleto', 3:'5ª Completo Fundamental',\n",
        "                          4:'6ª a 9ª Fundamental', 5:'Fundamental Completo', 6:'Médio Incompleto',\n",
        "                          7:'Médio Completo', 8:'Superior Incompleto', 9:'Superior Completo',\n",
        "                          10:'Mestrado', 11:'Doutorado', 80:'Pós-Graduação completa', 99:'Não Identificado'}\n",
        "seção = {'A':'Agricultura, Pecuária, Produção Florestal, Pesca e Aquicultura', \n",
        "              'B':'Indústrias Extrativas', 'C':'Indústrias de Transformação', 'D':'Eletricidade e Gás', \n",
        "              'E':'Água, Esgoto, Atividades de Gestão de Resíduos e Descontaminação', 'F':'Construção', \n",
        "              'G':'Comércio, Reparação de Veículos Automotores e Motocicletas', 'H':'Transporte, Armazenagem e Correio', \n",
        "              'I':'Alojamento e Alimentação', 'J':'Informação e Comunicação', 'K':'Atividades Financeiras, de Seguros e Serviços Relacionados', \n",
        "              'L':'Atividades Imobiliárias', 'M':'Atividades Profissionais, Científicas e Técnicas', \n",
        "              'N':'Atividades Administrativas e Serviços Complementares', 'O':'Administração Pública, Defesa e Seguridade Social', \n",
        "              'P':'Educação', 'Q':'Saúde Humana e Serviços Sociais', 'R':'Artes, Cultura, Esporte e Recreação',\n",
        "              'S':'Outras Atividades de Serviços', 'T':'Serviços Domésticos', \n",
        "              'U':'Organismos Internacionais e Outras Instituições Extraterritoriais', 'Z':'Não identificado'}\n",
        "\n",
        "tipodedeficiência = {\n",
        "    1:'Fisica',\n",
        "    2:'Auditiva',\n",
        "    3:'Visual',\n",
        "    4:'Intelectual(Mental)',\n",
        "    5:'Multipla',\n",
        "    6:'Nao deficiente',\n",
        "    0:'Nao deficiente',\n",
        "    -1:'ignorado'}\n",
        "\n",
        "categoria = {101: 'Geral, inclusive o empregado público da administração direta ou indireta', 102:' Trabalhador rural',\n",
        "             103:'Aprendiz', 104: 'Doméstico', 105: 'Contrato a termo firmado nos termos da Lei 9.601/1998',\n",
        "             106: 'Trabalhador temporário', 107: 'Contrato de trabalho Verde e Amarelo - sem acordo para antecipação mensal do FGTS', 108: 'ontrato de trabalho Verde e Amarelo - com acordo para antecipação mensal do FGTS',\n",
        "             111: 'Contrato de trabalho intermitente', 999: 'Não Identificado'\n",
        "            \n",
        "    \n",
        "}\n",
        "\n",
        "df = df.replace({'sexo': sexo, 'raçacor': raçacor, 'seção': seção, 'tipodedeficiência' : tipodedeficiência, 'graudeinstrução': graudeinstrução, 'categoria':categoria})   \n"
      ],
      "metadata": {
        "id": "Eaqcje9PC_Yp"
      },
      "execution_count": 10,
      "outputs": []
    },
    {
      "cell_type": "code",
      "source": [
        "df.isnull().sum()"
      ],
      "metadata": {
        "colab": {
          "base_uri": "https://localhost:8080/"
        },
        "id": "E-drURk_3HXM",
        "outputId": "447a4ed9-8386-4ff4-ad92-995cbd041b27"
      },
      "execution_count": 11,
      "outputs": [
        {
          "output_type": "execute_result",
          "data": {
            "text/plain": [
              "município             0\n",
              "seção                 0\n",
              "categoria             0\n",
              "graudeinstrução       0\n",
              "idade                29\n",
              "raçacor               0\n",
              "sexo                  0\n",
              "tipomovimentação      0\n",
              "tipodedeficiência     0\n",
              "salário               0\n",
              "dtype: int64"
            ]
          },
          "metadata": {},
          "execution_count": 11
        }
      ]
    },
    {
      "cell_type": "code",
      "source": [
        "conditions = [\n",
        "    ((df['idade'] >= 0) & (df['idade'] <= 19)),\n",
        "    ((df['idade'] >= 20) & (df['idade'] <= 59)),\n",
        "    (df['idade'] >= 60)\n",
        "    ]\n",
        "\n",
        "values = ['Jovem', 'Adulto', 'Idoso']\n",
        "\n",
        "df['idade'] = np.select(conditions, values)"
      ],
      "metadata": {
        "id": "mp-Hj7z63mqD"
      },
      "execution_count": 12,
      "outputs": []
    },
    {
      "cell_type": "code",
      "source": [
        "df['tipomovimentação'].value_counts(normalize=True)*100"
      ],
      "metadata": {
        "colab": {
          "base_uri": "https://localhost:8080/"
        },
        "id": "-npxjWgjHPEH",
        "outputId": "3f4de298-251e-4b3a-90fc-c6ee04be611f"
      },
      "execution_count": 13,
      "outputs": [
        {
          "output_type": "execute_result",
          "data": {
            "text/plain": [
              "Desligado    52.822322\n",
              "0            43.954458\n",
              "Admitido      3.223220\n",
              "Name: tipomovimentação, dtype: float64"
            ]
          },
          "metadata": {},
          "execution_count": 13
        }
      ]
    },
    {
      "cell_type": "markdown",
      "source": [
        "**Em out/22 o número de desligamentos foi maior que o número de admitidos**\n",
        "\n",
        "---\n",
        "\n",
        "\n",
        "\n"
      ],
      "metadata": {
        "id": "wVT3EJrHHWQD"
      }
    },
    {
      "cell_type": "code",
      "source": [
        "#Separando Demitidos e Admitidos\n",
        "demitidos = df[df[\"tipomovimentação\"] == 'Desligado']\n",
        "admitidos = df[df[\"tipomovimentação\"] == 'Admitido']"
      ],
      "metadata": {
        "id": "MmKqlZJsPluJ"
      },
      "execution_count": 14,
      "outputs": []
    },
    {
      "cell_type": "code",
      "source": [
        "print(\"Salário Médio:\", demitidos['salário'].mean())\n",
        "print(\"Salário Min:\", demitidos['salário'].min())\n",
        "print(\"Salário máximo:\", demitidos['salário'].max())"
      ],
      "metadata": {
        "colab": {
          "base_uri": "https://localhost:8080/"
        },
        "id": "1urOaN1X_mT9",
        "outputId": "8a26f856-fbdd-408a-dd1d-7412b0f42187"
      },
      "execution_count": 15,
      "outputs": [
        {
          "output_type": "stream",
          "name": "stdout",
          "text": [
            "Salário Médio: 1943.793806921676\n",
            "Salário Min: 0.0\n",
            "Salário máximo: 274639.19\n"
          ]
        }
      ]
    },
    {
      "cell_type": "markdown",
      "source": [
        "# ***Análises***"
      ],
      "metadata": {
        "id": "P1vRn43y6dq8"
      }
    },
    {
      "cell_type": "markdown",
      "source": [
        "\n",
        "#  **Analisando as diferenças entre homens e mulheres**\n",
        "\n",
        "\n",
        "*   Quantidade de admitidos e demitidos;\n",
        "*   Média salarial;\n",
        "\n",
        "*   Contratados por setor;\n",
        "*   List item\n",
        "\n",
        "\n",
        "\n",
        "\n",
        "\n",
        "\n",
        "\n"
      ],
      "metadata": {
        "id": "DHEzDJfB9zhU"
      }
    },
    {
      "cell_type": "code",
      "source": [
        "from IPython.display import Markdown\n",
        "df_admitidos = df[df['tipomovimentação']=='Admitido']\n",
        "df_desligados = df[df['tipomovimentação']=='Desligado']\n",
        "\n",
        "hired_men = df_admitidos[df_admitidos['sexo']=='Homem']['sexo'].count()\n",
        "hired_women = df_admitidos[df_admitidos['sexo']=='Mulher']['sexo'].count()\n",
        "hired_gender_diff = abs(hired_men - hired_women)\n",
        "\n",
        "fired_men = df_desligados[df_desligados['sexo']=='Homem']['sexo'].count()\n",
        "fired_women = df_desligados[df_desligados['sexo']=='Mulher']['sexo'].count()\n",
        "fired_gender_diff = abs(fired_men - fired_women)\n",
        "\n",
        "Markdown(\"\"\"### Quantidade de admissões/demissões por gênero \n",
        "| |Homens|Mulheres| Diferença |\n",
        "|---| ---  |   ---  | --- |\n",
        "|Adimitidos | {0:,} | {1:,} | {2:,} |\n",
        "|Desligados| {3:,} | {4:,} | {5:,} |\n",
        "\n",
        "\"\"\".format(hired_men, hired_women, hired_gender_diff, fired_men, fired_women, fired_gender_diff))"
      ],
      "metadata": {
        "colab": {
          "base_uri": "https://localhost:8080/",
          "height": 153
        },
        "id": "Lc-lbr58IbXa",
        "outputId": "d1d03035-e762-4f6f-d628-446428082a80"
      },
      "execution_count": 16,
      "outputs": [
        {
          "output_type": "execute_result",
          "data": {
            "text/plain": [
              "<IPython.core.display.Markdown object>"
            ],
            "text/markdown": "### Quantidade de admissões/demissões por gênero \n| |Homens|Mulheres| Diferença |\n|---| ---  |   ---  | --- |\n|Adimitidos | 120 | 81 | 39 |\n|Desligados| 1,916 | 1,378 | 538 |\n\n"
          },
          "metadata": {},
          "execution_count": 16
        }
      ]
    },
    {
      "cell_type": "code",
      "source": [
        "def calcula_diferenca(x, y):\n",
        "    if x == y:\n",
        "        return 0\n",
        "    try:\n",
        "        return ((abs(x - y) / y) * 100.0).round()\n",
        "    except ZeroDivisionError:\n",
        "        return float('inf')\n",
        "\n",
        "mediaSalarioMulher = df.query('sexo == \"Mulher\"')\n",
        "mediaSalarioMulher = mediaSalarioMulher['salário'].mean().round()\n",
        "\n",
        "mediaSalarioHomem = df.query('sexo == \"Homem\"')\n",
        "mediaSalarioHomem = mediaSalarioHomem['salário'].mean().round()\n",
        "\n",
        "print(f'salário médio de mulheres: {mediaSalarioMulher}\\nsalário médio de homens: {mediaSalarioHomem}\\n\\nDiferença = {calcula_diferenca(mediaSalarioHomem, mediaSalarioMulher)}%')\n"
      ],
      "metadata": {
        "colab": {
          "base_uri": "https://localhost:8080/"
        },
        "id": "3YhUS00J4fqs",
        "outputId": "ba0024cf-4d0f-46ef-ecf1-806d545caed9"
      },
      "execution_count": 17,
      "outputs": [
        {
          "output_type": "stream",
          "name": "stdout",
          "text": [
            "salário médio de mulheres: 1954.0\n",
            "salário médio de homens: 2385.0\n",
            "\n",
            "Diferença = 22.0%\n"
          ]
        }
      ]
    },
    {
      "cell_type": "code",
      "source": [
        "from IPython.display import Markdown\n",
        "mulher = admitidos[admitidos['sexo']=='Mulher']['salário'].mean()\n",
        "homem = admitidos[admitidos['sexo']=='Homem']['salário'].mean()\n",
        "diferenca = abs(mulher - homem)\n",
        "Markdown(\"\"\"# Diferença da média salarial entre homens e mulheres admitidos\n",
        "#### Salário médio de homens admitidos: {0:,.2f}    \n",
        "#### Salário médio de mulheres admitidas: {1:,.2f}\n",
        "### Diferença: {2:,.2f}\n",
        "\n",
        "\"\"\".format(mulher, homem, diferenca))"
      ],
      "metadata": {
        "colab": {
          "base_uri": "https://localhost:8080/",
          "height": 183
        },
        "id": "Nk7T8N-zSDgt",
        "outputId": "5d2a9db7-695d-4cd8-f530-1abd71e87ad2"
      },
      "execution_count": 18,
      "outputs": [
        {
          "output_type": "execute_result",
          "data": {
            "text/plain": [
              "<IPython.core.display.Markdown object>"
            ],
            "text/markdown": "# Diferença da média salarial entre homens e mulheres admitidos\n#### Salário médio de homens admitidos: 3,674.71    \n#### Salário médio de mulheres admitidas: 4,806.84\n### Diferença: 1,132.13\n\n"
          },
          "metadata": {},
          "execution_count": 18
        }
      ]
    },
    {
      "cell_type": "code",
      "source": [
        "from IPython.display import Markdown\n",
        "Mulher = demitidos[demitidos['sexo']=='Mulher']['salário'].mean()\n",
        "Homem = demitidos[demitidos['sexo']=='Homem']['salário'].mean()\n",
        "diferenca = abs(Mulher - Homem)\n",
        "Markdown(\"\"\"# Diferença da média salarial entre homens e mulheres demitidos\n",
        "#### Salário médio de homens demitidos: {0:,.2f}    \n",
        "#### Salário médio de mulheres demitidos: {1:,.2f}\n",
        "### Diferença: {2:,.2f}\n",
        "\n",
        "\"\"\".format(Mulher, Homem, diferenca))"
      ],
      "metadata": {
        "colab": {
          "base_uri": "https://localhost:8080/",
          "height": 183
        },
        "id": "QYDaY4UZSs3V",
        "outputId": "50ea7554-9d6f-4ad2-a5c7-d376f1b3df82"
      },
      "execution_count": 19,
      "outputs": [
        {
          "output_type": "execute_result",
          "data": {
            "text/plain": [
              "<IPython.core.display.Markdown object>"
            ],
            "text/markdown": "# Diferença da média salarial entre homens e mulheres demitidos\n#### Salário médio de homens demitidos: 1,636.99    \n#### Salário médio de mulheres demitidos: 2,164.45\n### Diferença: 527.46\n\n"
          },
          "metadata": {},
          "execution_count": 19
        }
      ]
    },
    {
      "cell_type": "code",
      "source": [
        "demitidos.groupby('categoria')['sexo'].value_counts (normalize=True)*100"
      ],
      "metadata": {
        "colab": {
          "base_uri": "https://localhost:8080/"
        },
        "id": "WOJS0Gw_6L3o",
        "outputId": "0e93b2f5-83f6-4e7a-972b-08be0125bb7f"
      },
      "execution_count": 20,
      "outputs": [
        {
          "output_type": "execute_result",
          "data": {
            "text/plain": [
              "categoria                                                                         sexo  \n",
              " Trabalhador rural                                                                Homem     100.000000\n",
              "Aprendiz                                                                          Mulher     66.525424\n",
              "                                                                                  Homem      33.474576\n",
              "Contrato a termo firmado nos termos da Lei 9.601/1998                             Homem      93.413174\n",
              "                                                                                  Mulher      6.586826\n",
              "Contrato de trabalho intermitente                                                 Homem      78.873239\n",
              "                                                                                  Mulher     21.126761\n",
              "Geral, inclusive o empregado público da administração direta ou indireta          Homem      58.464928\n",
              "                                                                                  Mulher     41.535072\n",
              "Trabalhador temporário                                                            Mulher     67.368421\n",
              "                                                                                  Homem      32.631579\n",
              "ontrato de trabalho Verde e Amarelo - com acordo para antecipação mensal do FGTS  Homem     100.000000\n",
              "Name: sexo, dtype: float64"
            ]
          },
          "metadata": {},
          "execution_count": 20
        }
      ]
    },
    {
      "cell_type": "code",
      "source": [
        "tableRGen = pd.pivot_table(admitidos, values= ['graudeinstrução'], index=['raçacor'],\n",
        "                    columns=['sexo'], aggfunc= 'count')\n",
        "tableRGen"
      ],
      "metadata": {
        "colab": {
          "base_uri": "https://localhost:8080/",
          "height": 237
        },
        "id": "EM3IV2ER45_3",
        "outputId": "afc83572-4d80-481d-d98f-5f54579fef85"
      },
      "execution_count": 21,
      "outputs": [
        {
          "output_type": "execute_result",
          "data": {
            "text/plain": [
              "              graudeinstrução       \n",
              "sexo                    Homem Mulher\n",
              "raçacor                             \n",
              "Branca                     31     21\n",
              "Não informada              36     12\n",
              "Parda                      43     46\n",
              "Preta                      10      2"
            ],
            "text/html": [
              "\n",
              "  <div id=\"df-c8a20eec-677f-4fb2-baf6-ad75ae50f609\">\n",
              "    <div class=\"colab-df-container\">\n",
              "      <div>\n",
              "<style scoped>\n",
              "    .dataframe tbody tr th:only-of-type {\n",
              "        vertical-align: middle;\n",
              "    }\n",
              "\n",
              "    .dataframe tbody tr th {\n",
              "        vertical-align: top;\n",
              "    }\n",
              "\n",
              "    .dataframe thead tr th {\n",
              "        text-align: left;\n",
              "    }\n",
              "\n",
              "    .dataframe thead tr:last-of-type th {\n",
              "        text-align: right;\n",
              "    }\n",
              "</style>\n",
              "<table border=\"1\" class=\"dataframe\">\n",
              "  <thead>\n",
              "    <tr>\n",
              "      <th></th>\n",
              "      <th colspan=\"2\" halign=\"left\">graudeinstrução</th>\n",
              "    </tr>\n",
              "    <tr>\n",
              "      <th>sexo</th>\n",
              "      <th>Homem</th>\n",
              "      <th>Mulher</th>\n",
              "    </tr>\n",
              "    <tr>\n",
              "      <th>raçacor</th>\n",
              "      <th></th>\n",
              "      <th></th>\n",
              "    </tr>\n",
              "  </thead>\n",
              "  <tbody>\n",
              "    <tr>\n",
              "      <th>Branca</th>\n",
              "      <td>31</td>\n",
              "      <td>21</td>\n",
              "    </tr>\n",
              "    <tr>\n",
              "      <th>Não informada</th>\n",
              "      <td>36</td>\n",
              "      <td>12</td>\n",
              "    </tr>\n",
              "    <tr>\n",
              "      <th>Parda</th>\n",
              "      <td>43</td>\n",
              "      <td>46</td>\n",
              "    </tr>\n",
              "    <tr>\n",
              "      <th>Preta</th>\n",
              "      <td>10</td>\n",
              "      <td>2</td>\n",
              "    </tr>\n",
              "  </tbody>\n",
              "</table>\n",
              "</div>\n",
              "      <button class=\"colab-df-convert\" onclick=\"convertToInteractive('df-c8a20eec-677f-4fb2-baf6-ad75ae50f609')\"\n",
              "              title=\"Convert this dataframe to an interactive table.\"\n",
              "              style=\"display:none;\">\n",
              "        \n",
              "  <svg xmlns=\"http://www.w3.org/2000/svg\" height=\"24px\"viewBox=\"0 0 24 24\"\n",
              "       width=\"24px\">\n",
              "    <path d=\"M0 0h24v24H0V0z\" fill=\"none\"/>\n",
              "    <path d=\"M18.56 5.44l.94 2.06.94-2.06 2.06-.94-2.06-.94-.94-2.06-.94 2.06-2.06.94zm-11 1L8.5 8.5l.94-2.06 2.06-.94-2.06-.94L8.5 2.5l-.94 2.06-2.06.94zm10 10l.94 2.06.94-2.06 2.06-.94-2.06-.94-.94-2.06-.94 2.06-2.06.94z\"/><path d=\"M17.41 7.96l-1.37-1.37c-.4-.4-.92-.59-1.43-.59-.52 0-1.04.2-1.43.59L10.3 9.45l-7.72 7.72c-.78.78-.78 2.05 0 2.83L4 21.41c.39.39.9.59 1.41.59.51 0 1.02-.2 1.41-.59l7.78-7.78 2.81-2.81c.8-.78.8-2.07 0-2.86zM5.41 20L4 18.59l7.72-7.72 1.47 1.35L5.41 20z\"/>\n",
              "  </svg>\n",
              "      </button>\n",
              "      \n",
              "  <style>\n",
              "    .colab-df-container {\n",
              "      display:flex;\n",
              "      flex-wrap:wrap;\n",
              "      gap: 12px;\n",
              "    }\n",
              "\n",
              "    .colab-df-convert {\n",
              "      background-color: #E8F0FE;\n",
              "      border: none;\n",
              "      border-radius: 50%;\n",
              "      cursor: pointer;\n",
              "      display: none;\n",
              "      fill: #1967D2;\n",
              "      height: 32px;\n",
              "      padding: 0 0 0 0;\n",
              "      width: 32px;\n",
              "    }\n",
              "\n",
              "    .colab-df-convert:hover {\n",
              "      background-color: #E2EBFA;\n",
              "      box-shadow: 0px 1px 2px rgba(60, 64, 67, 0.3), 0px 1px 3px 1px rgba(60, 64, 67, 0.15);\n",
              "      fill: #174EA6;\n",
              "    }\n",
              "\n",
              "    [theme=dark] .colab-df-convert {\n",
              "      background-color: #3B4455;\n",
              "      fill: #D2E3FC;\n",
              "    }\n",
              "\n",
              "    [theme=dark] .colab-df-convert:hover {\n",
              "      background-color: #434B5C;\n",
              "      box-shadow: 0px 1px 3px 1px rgba(0, 0, 0, 0.15);\n",
              "      filter: drop-shadow(0px 1px 2px rgba(0, 0, 0, 0.3));\n",
              "      fill: #FFFFFF;\n",
              "    }\n",
              "  </style>\n",
              "\n",
              "      <script>\n",
              "        const buttonEl =\n",
              "          document.querySelector('#df-c8a20eec-677f-4fb2-baf6-ad75ae50f609 button.colab-df-convert');\n",
              "        buttonEl.style.display =\n",
              "          google.colab.kernel.accessAllowed ? 'block' : 'none';\n",
              "\n",
              "        async function convertToInteractive(key) {\n",
              "          const element = document.querySelector('#df-c8a20eec-677f-4fb2-baf6-ad75ae50f609');\n",
              "          const dataTable =\n",
              "            await google.colab.kernel.invokeFunction('convertToInteractive',\n",
              "                                                     [key], {});\n",
              "          if (!dataTable) return;\n",
              "\n",
              "          const docLinkHtml = 'Like what you see? Visit the ' +\n",
              "            '<a target=\"_blank\" href=https://colab.research.google.com/notebooks/data_table.ipynb>data table notebook</a>'\n",
              "            + ' to learn more about interactive tables.';\n",
              "          element.innerHTML = '';\n",
              "          dataTable['output_type'] = 'display_data';\n",
              "          await google.colab.output.renderOutput(dataTable, element);\n",
              "          const docLink = document.createElement('div');\n",
              "          docLink.innerHTML = docLinkHtml;\n",
              "          element.appendChild(docLink);\n",
              "        }\n",
              "      </script>\n",
              "    </div>\n",
              "  </div>\n",
              "  "
            ]
          },
          "metadata": {},
          "execution_count": 21
        }
      ]
    },
    {
      "cell_type": "markdown",
      "source": [
        "#  **Analisando as diferenças de cor ou raça**\n"
      ],
      "metadata": {
        "id": "3HFszL3f6EdI"
      }
    },
    {
      "cell_type": "code",
      "source": [
        "sns.catplot(y=\"raçacor\", hue=\"tipomovimentação\", kind=\"count\",\n",
        "            palette=\"ch:.25\", edgecolor=\".5\",\n",
        "            data=df);"
      ],
      "metadata": {
        "colab": {
          "base_uri": "https://localhost:8080/",
          "height": 369
        },
        "id": "vRHKqRuMUOT5",
        "outputId": "e324fb71-acbd-4ae5-edb7-5cffc776db85"
      },
      "execution_count": 22,
      "outputs": [
        {
          "output_type": "display_data",
          "data": {
            "text/plain": [
              "<Figure size 461x360 with 1 Axes>"
            ],
            "image/png": "[encoded data removed]"
          },
          "metadata": {
            "needs_background": "light"
          }
        }
      ]
    },
    {
      "cell_type": "code",
      "source": [
        "dfPes = pd.DataFrame(admitidos['raçacor'].value_counts())\n",
        "dfPes['Proporção'] = round((dfPes['raçacor'] * 100)/dfPes['raçacor'].sum(),1)\n",
        "dfPes.sort_index()"
      ],
      "metadata": {
        "colab": {
          "base_uri": "https://localhost:8080/",
          "height": 175
        },
        "id": "jEHgV4cE4fL4",
        "outputId": "584accf9-3cc2-465c-8845-12441e21415f"
      },
      "execution_count": 23,
      "outputs": [
        {
          "output_type": "execute_result",
          "data": {
            "text/plain": [
              "               raçacor  Proporção\n",
              "Branca              52       25.9\n",
              "Não informada       48       23.9\n",
              "Parda               89       44.3\n",
              "Preta               12        6.0"
            ],
            "text/html": [
              "\n",
              "  <div id=\"df-968e230b-5d7d-40b1-bdb0-5bd860c06303\">\n",
              "    <div class=\"colab-df-container\">\n",
              "      <div>\n",
              "<style scoped>\n",
              "    .dataframe tbody tr th:only-of-type {\n",
              "        vertical-align: middle;\n",
              "    }\n",
              "\n",
              "    .dataframe tbody tr th {\n",
              "        vertical-align: top;\n",
              "    }\n",
              "\n",
              "    .dataframe thead th {\n",
              "        text-align: right;\n",
              "    }\n",
              "</style>\n",
              "<table border=\"1\" class=\"dataframe\">\n",
              "  <thead>\n",
              "    <tr style=\"text-align: right;\">\n",
              "      <th></th>\n",
              "      <th>raçacor</th>\n",
              "      <th>Proporção</th>\n",
              "    </tr>\n",
              "  </thead>\n",
              "  <tbody>\n",
              "    <tr>\n",
              "      <th>Branca</th>\n",
              "      <td>52</td>\n",
              "      <td>25.9</td>\n",
              "    </tr>\n",
              "    <tr>\n",
              "      <th>Não informada</th>\n",
              "      <td>48</td>\n",
              "      <td>23.9</td>\n",
              "    </tr>\n",
              "    <tr>\n",
              "      <th>Parda</th>\n",
              "      <td>89</td>\n",
              "      <td>44.3</td>\n",
              "    </tr>\n",
              "    <tr>\n",
              "      <th>Preta</th>\n",
              "      <td>12</td>\n",
              "      <td>6.0</td>\n",
              "    </tr>\n",
              "  </tbody>\n",
              "</table>\n",
              "</div>\n",
              "      <button class=\"colab-df-convert\" onclick=\"convertToInteractive('df-968e230b-5d7d-40b1-bdb0-5bd860c06303')\"\n",
              "              title=\"Convert this dataframe to an interactive table.\"\n",
              "              style=\"display:none;\">\n",
              "        \n",
              "  <svg xmlns=\"http://www.w3.org/2000/svg\" height=\"24px\"viewBox=\"0 0 24 24\"\n",
              "       width=\"24px\">\n",
              "    <path d=\"M0 0h24v24H0V0z\" fill=\"none\"/>\n",
              "    <path d=\"M18.56 5.44l.94 2.06.94-2.06 2.06-.94-2.06-.94-.94-2.06-.94 2.06-2.06.94zm-11 1L8.5 8.5l.94-2.06 2.06-.94-2.06-.94L8.5 2.5l-.94 2.06-2.06.94zm10 10l.94 2.06.94-2.06 2.06-.94-2.06-.94-.94-2.06-.94 2.06-2.06.94z\"/><path d=\"M17.41 7.96l-1.37-1.37c-.4-.4-.92-.59-1.43-.59-.52 0-1.04.2-1.43.59L10.3 9.45l-7.72 7.72c-.78.78-.78 2.05 0 2.83L4 21.41c.39.39.9.59 1.41.59.51 0 1.02-.2 1.41-.59l7.78-7.78 2.81-2.81c.8-.78.8-2.07 0-2.86zM5.41 20L4 18.59l7.72-7.72 1.47 1.35L5.41 20z\"/>\n",
              "  </svg>\n",
              "      </button>\n",
              "      \n",
              "  <style>\n",
              "    .colab-df-container {\n",
              "      display:flex;\n",
              "      flex-wrap:wrap;\n",
              "      gap: 12px;\n",
              "    }\n",
              "\n",
              "    .colab-df-convert {\n",
              "      background-color: #E8F0FE;\n",
              "      border: none;\n",
              "      border-radius: 50%;\n",
              "      cursor: pointer;\n",
              "      display: none;\n",
              "      fill: #1967D2;\n",
              "      height: 32px;\n",
              "      padding: 0 0 0 0;\n",
              "      width: 32px;\n",
              "    }\n",
              "\n",
              "    .colab-df-convert:hover {\n",
              "      background-color: #E2EBFA;\n",
              "      box-shadow: 0px 1px 2px rgba(60, 64, 67, 0.3), 0px 1px 3px 1px rgba(60, 64, 67, 0.15);\n",
              "      fill: #174EA6;\n",
              "    }\n",
              "\n",
              "    [theme=dark] .colab-df-convert {\n",
              "      background-color: #3B4455;\n",
              "      fill: #D2E3FC;\n",
              "    }\n",
              "\n",
              "    [theme=dark] .colab-df-convert:hover {\n",
              "      background-color: #434B5C;\n",
              "      box-shadow: 0px 1px 3px 1px rgba(0, 0, 0, 0.15);\n",
              "      filter: drop-shadow(0px 1px 2px rgba(0, 0, 0, 0.3));\n",
              "      fill: #FFFFFF;\n",
              "    }\n",
              "  </style>\n",
              "\n",
              "      <script>\n",
              "        const buttonEl =\n",
              "          document.querySelector('#df-968e230b-5d7d-40b1-bdb0-5bd860c06303 button.colab-df-convert');\n",
              "        buttonEl.style.display =\n",
              "          google.colab.kernel.accessAllowed ? 'block' : 'none';\n",
              "\n",
              "        async function convertToInteractive(key) {\n",
              "          const element = document.querySelector('#df-968e230b-5d7d-40b1-bdb0-5bd860c06303');\n",
              "          const dataTable =\n",
              "            await google.colab.kernel.invokeFunction('convertToInteractive',\n",
              "                                                     [key], {});\n",
              "          if (!dataTable) return;\n",
              "\n",
              "          const docLinkHtml = 'Like what you see? Visit the ' +\n",
              "            '<a target=\"_blank\" href=https://colab.research.google.com/notebooks/data_table.ipynb>data table notebook</a>'\n",
              "            + ' to learn more about interactive tables.';\n",
              "          element.innerHTML = '';\n",
              "          dataTable['output_type'] = 'display_data';\n",
              "          await google.colab.output.renderOutput(dataTable, element);\n",
              "          const docLink = document.createElement('div');\n",
              "          docLink.innerHTML = docLinkHtml;\n",
              "          element.appendChild(docLink);\n",
              "        }\n",
              "      </script>\n",
              "    </div>\n",
              "  </div>\n",
              "  "
            ]
          },
          "metadata": {},
          "execution_count": 23
        }
      ]
    },
    {
      "cell_type": "code",
      "source": [
        "sns.catplot(x=\"sexo\", y=\"salário\", hue=\"raçacor\", kind=\"bar\", data=df);"
      ],
      "metadata": {
        "colab": {
          "base_uri": "https://localhost:8080/",
          "height": 369
        },
        "id": "oZlf_hEXGSZr",
        "outputId": "a6100bba-7d79-463f-86c9-ddec5fa6a4e9"
      },
      "execution_count": 24,
      "outputs": [
        {
          "output_type": "display_data",
          "data": {
            "text/plain": [
              "<Figure size 469.875x360 with 1 Axes>"
            ],
            "image/png": "[encoded data removed]"
          },
          "metadata": {
            "needs_background": "light"
          }
        }
      ]
    },
    {
      "cell_type": "code",
      "source": [
        "relacao = admitidos\n",
        "relacao[['salário','graudeinstrução', 'idade', 'sexo','raçacor']].groupby(['graudeinstrução','raçacor'])\\\n",
        ".mean().sort_values(by='salário', ascending=False).round(2).reset_index()"
      ],
      "metadata": {
        "colab": {
          "base_uri": "https://localhost:8080/",
          "height": 739
        },
        "id": "Spb5u8EYgz9y",
        "outputId": "aadd47a0-07af-41a3-dd47-4d2c5ae81f15"
      },
      "execution_count": 25,
      "outputs": [
        {
          "output_type": "execute_result",
          "data": {
            "text/plain": [
              "            graudeinstrução        raçacor   salário\n",
              "0         Superior Completo         Branca  29566.66\n",
              "1         Superior Completo  Não informada   8659.20\n",
              "2            Médio Completo          Parda   4710.34\n",
              "3    Pós-Graduação completa          Parda   2655.00\n",
              "4         Superior Completo          Parda   1588.21\n",
              "5          Médio Incompleto          Parda   1524.00\n",
              "6       Superior Incompleto         Branca   1519.82\n",
              "7            Médio Completo         Branca   1414.78\n",
              "8       6ª a 9ª Fundamental         Branca   1407.50\n",
              "9          Médio Incompleto  Não informada   1287.10\n",
              "10         Médio Incompleto          Preta   1272.35\n",
              "11  5ª Completo Fundamental          Parda   1231.68\n",
              "12           Médio Completo          Preta   1230.31\n",
              "13     Fundamental Completo  Não informada   1198.28\n",
              "14  5ª Completo Fundamental  Não informada   1162.00\n",
              "15      Superior Incompleto          Parda   1161.00\n",
              "16      Superior Incompleto  Não informada   1134.65\n",
              "17     Fundamental Completo         Branca   1047.13\n",
              "18           Médio Completo  Não informada   1032.25\n",
              "19     Fundamental Completo          Parda    835.83\n",
              "20        Até 5ª Incompleto         Branca      0.00\n",
              "21         Médio Incompleto         Branca      0.00"
            ],
            "text/html": [
              "\n",
              "  <div id=\"df-36f5299d-d25e-484c-a513-4bfbcd4a077e\">\n",
              "    <div class=\"colab-df-container\">\n",
              "      <div>\n",
              "<style scoped>\n",
              "    .dataframe tbody tr th:only-of-type {\n",
              "        vertical-align: middle;\n",
              "    }\n",
              "\n",
              "    .dataframe tbody tr th {\n",
              "        vertical-align: top;\n",
              "    }\n",
              "\n",
              "    .dataframe thead th {\n",
              "        text-align: right;\n",
              "    }\n",
              "</style>\n",
              "<table border=\"1\" class=\"dataframe\">\n",
              "  <thead>\n",
              "    <tr style=\"text-align: right;\">\n",
              "      <th></th>\n",
              "      <th>graudeinstrução</th>\n",
              "      <th>raçacor</th>\n",
              "      <th>salário</th>\n",
              "    </tr>\n",
              "  </thead>\n",
              "  <tbody>\n",
              "    <tr>\n",
              "      <th>0</th>\n",
              "      <td>Superior Completo</td>\n",
              "      <td>Branca</td>\n",
              "      <td>29566.66</td>\n",
              "    </tr>\n",
              "    <tr>\n",
              "      <th>1</th>\n",
              "      <td>Superior Completo</td>\n",
              "      <td>Não informada</td>\n",
              "      <td>8659.20</td>\n",
              "    </tr>\n",
              "    <tr>\n",
              "      <th>2</th>\n",
              "      <td>Médio Completo</td>\n",
              "      <td>Parda</td>\n",
              "      <td>4710.34</td>\n",
              "    </tr>\n",
              "    <tr>\n",
              "      <th>3</th>\n",
              "      <td>Pós-Graduação completa</td>\n",
              "      <td>Parda</td>\n",
              "      <td>2655.00</td>\n",
              "    </tr>\n",
              "    <tr>\n",
              "      <th>4</th>\n",
              "      <td>Superior Completo</td>\n",
              "      <td>Parda</td>\n",
              "      <td>1588.21</td>\n",
              "    </tr>\n",
              "    <tr>\n",
              "      <th>5</th>\n",
              "      <td>Médio Incompleto</td>\n",
              "      <td>Parda</td>\n",
              "      <td>1524.00</td>\n",
              "    </tr>\n",
              "    <tr>\n",
              "      <th>6</th>\n",
              "      <td>Superior Incompleto</td>\n",
              "      <td>Branca</td>\n",
              "      <td>1519.82</td>\n",
              "    </tr>\n",
              "    <tr>\n",
              "      <th>7</th>\n",
              "      <td>Médio Completo</td>\n",
              "      <td>Branca</td>\n",
              "      <td>1414.78</td>\n",
              "    </tr>\n",
              "    <tr>\n",
              "      <th>8</th>\n",
              "      <td>6ª a 9ª Fundamental</td>\n",
              "      <td>Branca</td>\n",
              "      <td>1407.50</td>\n",
              "    </tr>\n",
              "    <tr>\n",
              "      <th>9</th>\n",
              "      <td>Médio Incompleto</td>\n",
              "      <td>Não informada</td>\n",
              "      <td>1287.10</td>\n",
              "    </tr>\n",
              "    <tr>\n",
              "      <th>10</th>\n",
              "      <td>Médio Incompleto</td>\n",
              "      <td>Preta</td>\n",
              "      <td>1272.35</td>\n",
              "    </tr>\n",
              "    <tr>\n",
              "      <th>11</th>\n",
              "      <td>5ª Completo Fundamental</td>\n",
              "      <td>Parda</td>\n",
              "      <td>1231.68</td>\n",
              "    </tr>\n",
              "    <tr>\n",
              "      <th>12</th>\n",
              "      <td>Médio Completo</td>\n",
              "      <td>Preta</td>\n",
              "      <td>1230.31</td>\n",
              "    </tr>\n",
              "    <tr>\n",
              "      <th>13</th>\n",
              "      <td>Fundamental Completo</td>\n",
              "      <td>Não informada</td>\n",
              "      <td>1198.28</td>\n",
              "    </tr>\n",
              "    <tr>\n",
              "      <th>14</th>\n",
              "      <td>5ª Completo Fundamental</td>\n",
              "      <td>Não informada</td>\n",
              "      <td>1162.00</td>\n",
              "    </tr>\n",
              "    <tr>\n",
              "      <th>15</th>\n",
              "      <td>Superior Incompleto</td>\n",
              "      <td>Parda</td>\n",
              "      <td>1161.00</td>\n",
              "    </tr>\n",
              "    <tr>\n",
              "      <th>16</th>\n",
              "      <td>Superior Incompleto</td>\n",
              "      <td>Não informada</td>\n",
              "      <td>1134.65</td>\n",
              "    </tr>\n",
              "    <tr>\n",
              "      <th>17</th>\n",
              "      <td>Fundamental Completo</td>\n",
              "      <td>Branca</td>\n",
              "      <td>1047.13</td>\n",
              "    </tr>\n",
              "    <tr>\n",
              "      <th>18</th>\n",
              "      <td>Médio Completo</td>\n",
              "      <td>Não informada</td>\n",
              "      <td>1032.25</td>\n",
              "    </tr>\n",
              "    <tr>\n",
              "      <th>19</th>\n",
              "      <td>Fundamental Completo</td>\n",
              "      <td>Parda</td>\n",
              "      <td>835.83</td>\n",
              "    </tr>\n",
              "    <tr>\n",
              "      <th>20</th>\n",
              "      <td>Até 5ª Incompleto</td>\n",
              "      <td>Branca</td>\n",
              "      <td>0.00</td>\n",
              "    </tr>\n",
              "    <tr>\n",
              "      <th>21</th>\n",
              "      <td>Médio Incompleto</td>\n",
              "      <td>Branca</td>\n",
              "      <td>0.00</td>\n",
              "    </tr>\n",
              "  </tbody>\n",
              "</table>\n",
              "</div>\n",
              "      <button class=\"colab-df-convert\" onclick=\"convertToInteractive('df-36f5299d-d25e-484c-a513-4bfbcd4a077e')\"\n",
              "              title=\"Convert this dataframe to an interactive table.\"\n",
              "              style=\"display:none;\">\n",
              "        \n",
              "  <svg xmlns=\"http://www.w3.org/2000/svg\" height=\"24px\"viewBox=\"0 0 24 24\"\n",
              "       width=\"24px\">\n",
              "    <path d=\"M0 0h24v24H0V0z\" fill=\"none\"/>\n",
              "    <path d=\"M18.56 5.44l.94 2.06.94-2.06 2.06-.94-2.06-.94-.94-2.06-.94 2.06-2.06.94zm-11 1L8.5 8.5l.94-2.06 2.06-.94-2.06-.94L8.5 2.5l-.94 2.06-2.06.94zm10 10l.94 2.06.94-2.06 2.06-.94-2.06-.94-.94-2.06-.94 2.06-2.06.94z\"/><path d=\"M17.41 7.96l-1.37-1.37c-.4-.4-.92-.59-1.43-.59-.52 0-1.04.2-1.43.59L10.3 9.45l-7.72 7.72c-.78.78-.78 2.05 0 2.83L4 21.41c.39.39.9.59 1.41.59.51 0 1.02-.2 1.41-.59l7.78-7.78 2.81-2.81c.8-.78.8-2.07 0-2.86zM5.41 20L4 18.59l7.72-7.72 1.47 1.35L5.41 20z\"/>\n",
              "  </svg>\n",
              "      </button>\n",
              "      \n",
              "  <style>\n",
              "    .colab-df-container {\n",
              "      display:flex;\n",
              "      flex-wrap:wrap;\n",
              "      gap: 12px;\n",
              "    }\n",
              "\n",
              "    .colab-df-convert {\n",
              "      background-color: #E8F0FE;\n",
              "      border: none;\n",
              "      border-radius: 50%;\n",
              "      cursor: pointer;\n",
              "      display: none;\n",
              "      fill: #1967D2;\n",
              "      height: 32px;\n",
              "      padding: 0 0 0 0;\n",
              "      width: 32px;\n",
              "    }\n",
              "\n",
              "    .colab-df-convert:hover {\n",
              "      background-color: #E2EBFA;\n",
              "      box-shadow: 0px 1px 2px rgba(60, 64, 67, 0.3), 0px 1px 3px 1px rgba(60, 64, 67, 0.15);\n",
              "      fill: #174EA6;\n",
              "    }\n",
              "\n",
              "    [theme=dark] .colab-df-convert {\n",
              "      background-color: #3B4455;\n",
              "      fill: #D2E3FC;\n",
              "    }\n",
              "\n",
              "    [theme=dark] .colab-df-convert:hover {\n",
              "      background-color: #434B5C;\n",
              "      box-shadow: 0px 1px 3px 1px rgba(0, 0, 0, 0.15);\n",
              "      filter: drop-shadow(0px 1px 2px rgba(0, 0, 0, 0.3));\n",
              "      fill: #FFFFFF;\n",
              "    }\n",
              "  </style>\n",
              "\n",
              "      <script>\n",
              "        const buttonEl =\n",
              "          document.querySelector('#df-36f5299d-d25e-484c-a513-4bfbcd4a077e button.colab-df-convert');\n",
              "        buttonEl.style.display =\n",
              "          google.colab.kernel.accessAllowed ? 'block' : 'none';\n",
              "\n",
              "        async function convertToInteractive(key) {\n",
              "          const element = document.querySelector('#df-36f5299d-d25e-484c-a513-4bfbcd4a077e');\n",
              "          const dataTable =\n",
              "            await google.colab.kernel.invokeFunction('convertToInteractive',\n",
              "                                                     [key], {});\n",
              "          if (!dataTable) return;\n",
              "\n",
              "          const docLinkHtml = 'Like what you see? Visit the ' +\n",
              "            '<a target=\"_blank\" href=https://colab.research.google.com/notebooks/data_table.ipynb>data table notebook</a>'\n",
              "            + ' to learn more about interactive tables.';\n",
              "          element.innerHTML = '';\n",
              "          dataTable['output_type'] = 'display_data';\n",
              "          await google.colab.output.renderOutput(dataTable, element);\n",
              "          const docLink = document.createElement('div');\n",
              "          docLink.innerHTML = docLinkHtml;\n",
              "          element.appendChild(docLink);\n",
              "        }\n",
              "      </script>\n",
              "    </div>\n",
              "  </div>\n",
              "  "
            ]
          },
          "metadata": {},
          "execution_count": 25
        }
      ]
    },
    {
      "cell_type": "code",
      "source": [
        "g = sns.catplot(\n",
        "    data=admitidos, kind=\"count\",\n",
        "    x=\"raçacor\", hue=\"idade\",\n",
        "    ci=\"sd\", palette=\"copper\", alpha=.6, height=8, aspect=2, legend_out=False)\n",
        "g.set_axis_labels(\"\", \"\")\n",
        "g.legend.set_title(\"\")\n",
        "g.ax.legend(loc=1);"
      ],
      "metadata": {
        "colab": {
          "base_uri": "https://localhost:8080/",
          "height": 571
        },
        "id": "E7rVSiTxXZaX",
        "outputId": "40acd36a-7830-44dd-e9e8-3083847af5d5"
      },
      "execution_count": 26,
      "outputs": [
        {
          "output_type": "display_data",
          "data": {
            "text/plain": [
              "<Figure size 1152x576 with 1 Axes>"
            ],
            "image/png": "[encoded data removed]"
          },
          "metadata": {
            "needs_background": "light"
          }
        }
      ]
    },
    {
      "cell_type": "code",
      "source": [
        "df.info()"
      ],
      "metadata": {
        "colab": {
          "base_uri": "https://localhost:8080/"
        },
        "id": "I-Arevfj9v7H",
        "outputId": "69251f21-22ec-4766-9a28-1b8b8ce2fe7e"
      },
      "execution_count": 27,
      "outputs": [
        {
          "output_type": "stream",
          "name": "stdout",
          "text": [
            "<class 'pandas.core.frame.DataFrame'>\n",
            "RangeIndex: 6236 entries, 0 to 6235\n",
            "Data columns (total 10 columns):\n",
            " #   Column             Non-Null Count  Dtype  \n",
            "---  ------             --------------  -----  \n",
            " 0   município          6236 non-null   int64  \n",
            " 1   seção              6236 non-null   object \n",
            " 2   categoria          6236 non-null   object \n",
            " 3   graudeinstrução    6236 non-null   object \n",
            " 4   idade              6236 non-null   object \n",
            " 5   raçacor            6236 non-null   object \n",
            " 6   sexo               6236 non-null   object \n",
            " 7   tipomovimentação   6236 non-null   object \n",
            " 8   tipodedeficiência  6236 non-null   object \n",
            " 9   salário            6236 non-null   float64\n",
            "dtypes: float64(1), int64(1), object(8)\n",
            "memory usage: 487.3+ KB\n"
          ]
        }
      ]
    },
    {
      "cell_type": "markdown",
      "source": [
        "# ***Outras análises***"
      ],
      "metadata": {
        "id": "784t4wZYV_fg"
      }
    },
    {
      "cell_type": "code",
      "source": [
        "\n",
        "def plot(get_chart, xlabel=None, ylabel=None, title=None , figsize=(10,6), xticks=None):\n",
        "    titledict = {'fontweight':'bold', 'fontsize': 15}\n",
        "    labeldict = {'fontsize': 13}\n",
        "    plt.figure(figsize = figsize)\n",
        "    ax = get_chart()\n",
        "    title and ax.set_title(title + \"\\n\", fontdict=titledict)\n",
        "    xlabel and ax.set_xlabel(xlabel, fontdict=labeldict)\n",
        "    xlabel and ax.set_ylabel(ylabel, fontdict=labeldict)\n",
        "    plt.show()"
      ],
      "metadata": {
        "id": "CAW9s6-mVh7_"
      },
      "execution_count": 28,
      "outputs": []
    },
    {
      "cell_type": "code",
      "source": [
        "plot(\n",
        "    get_chart = lambda: sns.countplot(x='idade', hue='categoria',data = admitidos, palette='copper_r'),\n",
        "    title = \"Contagem de colaboradores admitidos por categoria e idade\",\n",
        "    xlabel = \"Raça/Cor\",\n",
        "    ylabel = \"Contagem\",\n",
        "     )"
      ],
      "metadata": {
        "colab": {
          "base_uri": "https://localhost:8080/",
          "height": 426
        },
        "id": "5C-rL84WVr-4",
        "outputId": "c39668e8-3407-4625-8e88-8713d286d1d8"
      },
      "execution_count": 33,
      "outputs": [
        {
          "output_type": "display_data",
          "data": {
            "text/plain": [
              "<Figure size 720x432 with 1 Axes>"
            ],
            "image/png": "[encoded data removed]"
          },
          "metadata": {
            "needs_background": "light"
          }
        }
      ]
    },
    {
      "cell_type": "code",
      "source": [
        "def get_chart():\n",
        "    ax = sns.countplot(x='idade',hue='tipomovimentação',data = df, palette='inferno')\n",
        "    ax.set(yscale=\"log\")\n",
        "    return ax\n",
        "plot(\n",
        "    get_chart = get_chart,\n",
        "    xlabel = \"Grupo Etário\",\n",
        "    ylabel = \"Contagem(log)\",\n",
        "    title = \"Contagem de colaboradores admitidos e contratados por faixa etária\" \n",
        ")"
      ],
      "metadata": {
        "colab": {
          "base_uri": "https://localhost:8080/",
          "height": 427
        },
        "id": "b628a6RlW9NP",
        "outputId": "b81febe6-5164-4076-cb79-2b627b2cff0f"
      },
      "execution_count": 30,
      "outputs": [
        {
          "output_type": "display_data",
          "data": {
            "text/plain": [
              "<Figure size 720x432 with 1 Axes>"
            ],
            "image/png": "[encoded data removed]"
          },
          "metadata": {
            "needs_background": "light"
          }
        }
      ]
    },
    {
      "cell_type": "code",
      "source": [
        "idade = admitidos\n",
        "idade=idade[['salário','categoria', 'idade', 'sexo','raçacor']].groupby(['categoria','idade'])\\\n",
        ".mean().sort_values(by='salário', ascending=False).round(2).reset_index()\n",
        "idade"
      ],
      "metadata": {
        "colab": {
          "base_uri": "https://localhost:8080/",
          "height": 237
        },
        "id": "bc_d3pSsojkw",
        "outputId": "9d57b292-bfe7-41aa-9d1a-2a37a82374b4"
      },
      "execution_count": 35,
      "outputs": [
        {
          "output_type": "execute_result",
          "data": {
            "text/plain": [
              "                                           categoria   idade  salário\n",
              "0  Geral, inclusive o empregado público da admini...  Adulto  4713.36\n",
              "1                  Contrato de trabalho intermitente  Adulto  2597.76\n",
              "2  Contrato a termo firmado nos termos da Lei 9.6...  Adulto  1960.86\n",
              "3                                  Trabalhador rural  Adulto  1321.42\n",
              "4  Geral, inclusive o empregado público da admini...   Jovem  1030.65\n",
              "5  Geral, inclusive o empregado público da admini...   Idoso   874.50"
            ],
            "text/html": [
              "\n",
              "  <div id=\"df-fce41352-f68a-42e2-bd54-1d43671286bd\">\n",
              "    <div class=\"colab-df-container\">\n",
              "      <div>\n",
              "<style scoped>\n",
              "    .dataframe tbody tr th:only-of-type {\n",
              "        vertical-align: middle;\n",
              "    }\n",
              "\n",
              "    .dataframe tbody tr th {\n",
              "        vertical-align: top;\n",
              "    }\n",
              "\n",
              "    .dataframe thead th {\n",
              "        text-align: right;\n",
              "    }\n",
              "</style>\n",
              "<table border=\"1\" class=\"dataframe\">\n",
              "  <thead>\n",
              "    <tr style=\"text-align: right;\">\n",
              "      <th></th>\n",
              "      <th>categoria</th>\n",
              "      <th>idade</th>\n",
              "      <th>salário</th>\n",
              "    </tr>\n",
              "  </thead>\n",
              "  <tbody>\n",
              "    <tr>\n",
              "      <th>0</th>\n",
              "      <td>Geral, inclusive o empregado público da admini...</td>\n",
              "      <td>Adulto</td>\n",
              "      <td>4713.36</td>\n",
              "    </tr>\n",
              "    <tr>\n",
              "      <th>1</th>\n",
              "      <td>Contrato de trabalho intermitente</td>\n",
              "      <td>Adulto</td>\n",
              "      <td>2597.76</td>\n",
              "    </tr>\n",
              "    <tr>\n",
              "      <th>2</th>\n",
              "      <td>Contrato a termo firmado nos termos da Lei 9.6...</td>\n",
              "      <td>Adulto</td>\n",
              "      <td>1960.86</td>\n",
              "    </tr>\n",
              "    <tr>\n",
              "      <th>3</th>\n",
              "      <td>Trabalhador rural</td>\n",
              "      <td>Adulto</td>\n",
              "      <td>1321.42</td>\n",
              "    </tr>\n",
              "    <tr>\n",
              "      <th>4</th>\n",
              "      <td>Geral, inclusive o empregado público da admini...</td>\n",
              "      <td>Jovem</td>\n",
              "      <td>1030.65</td>\n",
              "    </tr>\n",
              "    <tr>\n",
              "      <th>5</th>\n",
              "      <td>Geral, inclusive o empregado público da admini...</td>\n",
              "      <td>Idoso</td>\n",
              "      <td>874.50</td>\n",
              "    </tr>\n",
              "  </tbody>\n",
              "</table>\n",
              "</div>\n",
              "      <button class=\"colab-df-convert\" onclick=\"convertToInteractive('df-fce41352-f68a-42e2-bd54-1d43671286bd')\"\n",
              "              title=\"Convert this dataframe to an interactive table.\"\n",
              "              style=\"display:none;\">\n",
              "        \n",
              "  <svg xmlns=\"http://www.w3.org/2000/svg\" height=\"24px\"viewBox=\"0 0 24 24\"\n",
              "       width=\"24px\">\n",
              "    <path d=\"M0 0h24v24H0V0z\" fill=\"none\"/>\n",
              "    <path d=\"M18.56 5.44l.94 2.06.94-2.06 2.06-.94-2.06-.94-.94-2.06-.94 2.06-2.06.94zm-11 1L8.5 8.5l.94-2.06 2.06-.94-2.06-.94L8.5 2.5l-.94 2.06-2.06.94zm10 10l.94 2.06.94-2.06 2.06-.94-2.06-.94-.94-2.06-.94 2.06-2.06.94z\"/><path d=\"M17.41 7.96l-1.37-1.37c-.4-.4-.92-.59-1.43-.59-.52 0-1.04.2-1.43.59L10.3 9.45l-7.72 7.72c-.78.78-.78 2.05 0 2.83L4 21.41c.39.39.9.59 1.41.59.51 0 1.02-.2 1.41-.59l7.78-7.78 2.81-2.81c.8-.78.8-2.07 0-2.86zM5.41 20L4 18.59l7.72-7.72 1.47 1.35L5.41 20z\"/>\n",
              "  </svg>\n",
              "      </button>\n",
              "      \n",
              "  <style>\n",
              "    .colab-df-container {\n",
              "      display:flex;\n",
              "      flex-wrap:wrap;\n",
              "      gap: 12px;\n",
              "    }\n",
              "\n",
              "    .colab-df-convert {\n",
              "      background-color: #E8F0FE;\n",
              "      border: none;\n",
              "      border-radius: 50%;\n",
              "      cursor: pointer;\n",
              "      display: none;\n",
              "      fill: #1967D2;\n",
              "      height: 32px;\n",
              "      padding: 0 0 0 0;\n",
              "      width: 32px;\n",
              "    }\n",
              "\n",
              "    .colab-df-convert:hover {\n",
              "      background-color: #E2EBFA;\n",
              "      box-shadow: 0px 1px 2px rgba(60, 64, 67, 0.3), 0px 1px 3px 1px rgba(60, 64, 67, 0.15);\n",
              "      fill: #174EA6;\n",
              "    }\n",
              "\n",
              "    [theme=dark] .colab-df-convert {\n",
              "      background-color: #3B4455;\n",
              "      fill: #D2E3FC;\n",
              "    }\n",
              "\n",
              "    [theme=dark] .colab-df-convert:hover {\n",
              "      background-color: #434B5C;\n",
              "      box-shadow: 0px 1px 3px 1px rgba(0, 0, 0, 0.15);\n",
              "      filter: drop-shadow(0px 1px 2px rgba(0, 0, 0, 0.3));\n",
              "      fill: #FFFFFF;\n",
              "    }\n",
              "  </style>\n",
              "\n",
              "      <script>\n",
              "        const buttonEl =\n",
              "          document.querySelector('#df-fce41352-f68a-42e2-bd54-1d43671286bd button.colab-df-convert');\n",
              "        buttonEl.style.display =\n",
              "          google.colab.kernel.accessAllowed ? 'block' : 'none';\n",
              "\n",
              "        async function convertToInteractive(key) {\n",
              "          const element = document.querySelector('#df-fce41352-f68a-42e2-bd54-1d43671286bd');\n",
              "          const dataTable =\n",
              "            await google.colab.kernel.invokeFunction('convertToInteractive',\n",
              "                                                     [key], {});\n",
              "          if (!dataTable) return;\n",
              "\n",
              "          const docLinkHtml = 'Like what you see? Visit the ' +\n",
              "            '<a target=\"_blank\" href=https://colab.research.google.com/notebooks/data_table.ipynb>data table notebook</a>'\n",
              "            + ' to learn more about interactive tables.';\n",
              "          element.innerHTML = '';\n",
              "          dataTable['output_type'] = 'display_data';\n",
              "          await google.colab.output.renderOutput(dataTable, element);\n",
              "          const docLink = document.createElement('div');\n",
              "          docLink.innerHTML = docLinkHtml;\n",
              "          element.appendChild(docLink);\n",
              "        }\n",
              "      </script>\n",
              "    </div>\n",
              "  </div>\n",
              "  "
            ]
          },
          "metadata": {},
          "execution_count": 35
        }
      ]
    }
  ]
}